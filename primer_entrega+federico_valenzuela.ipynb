{
  "nbformat": 4,
  "nbformat_minor": 0,
  "metadata": {
    "colab": {
      "provenance": [],
      "toc_visible": true,
      "authorship_tag": "ABX9TyN1uN1SoVuRgzjYA6inTGA/",
      "include_colab_link": true
    },
    "kernelspec": {
      "name": "python3",
      "display_name": "Python 3"
    },
    "language_info": {
      "name": "python"
    }
  },
  "cells": [
    {
      "cell_type": "markdown",
      "metadata": {
        "id": "view-in-github",
        "colab_type": "text"
      },
      "source": [
        "<a href=\"https://colab.research.google.com/github/Federico-Valenzuela/PYTHON/blob/main/primer_entrega%2Bfederico_valenzuela.ipynb\" target=\"_parent\"><img src=\"https://colab.research.google.com/assets/colab-badge.svg\" alt=\"Open In Colab\"/></a>"
      ]
    },
    {
      "cell_type": "markdown",
      "source": [],
      "metadata": {
        "id": "yVTDaNrbDOAC"
      }
    },
    {
      "cell_type": "code",
      "execution_count": 11,
      "metadata": {
        "colab": {
          "base_uri": "https://localhost:8080/"
        },
        "id": "7ZfgF_UFDEkv",
        "outputId": "4e7962c5-307c-4e81-a474-c75e9e0c6d1e"
      },
      "outputs": [
        {
          "output_type": "stream",
          "name": "stdout",
          "text": [
            "Por favor, cree su nombre: fede\n",
            "nombre de  usuario creado: fede\n",
            "Por favor, cree su clave: 3236\n",
            "nombre de  clave creado: 3236\n",
            "{'fede': '3236'}\n",
            "Por favor, ingrese su nombre: fede\n",
            "nombre de  usuario ingresado: fede\n",
            "Por favor, ingrese su clave: 3333\n",
            "nombre de  clave ingresado: 3333\n",
            "El usuario \"fede\"se encuentra en BD.\n",
            "La clave  asociada es: 3236\n",
            "clave incorrecta\n"
          ]
        }
      ],
      "source": [
        "data = {}\n",
        "\n",
        "# Solicitar al usuario que cree su nombre\n",
        "usuario_creada= input(\"Por favor, cree su nombre: \")\n",
        "\n",
        "# Imprimir en pantalla el nombre ingresado\n",
        "print(\"nombre de  usuario creado:\", usuario_creada)\n",
        "\n",
        "\n",
        "# Solicitar al clave que cree su nombre\n",
        "clave_creada= input(\"Por favor, cree su clave: \")\n",
        "\n",
        "# Imprimir en pantalla el nombre ingresado\n",
        "print(\"nombre de  clave creado:\", clave_creada)\n",
        "\n",
        "data[usuario_creada] = clave_creada\n",
        "\n",
        "print(data)\n",
        "#-----------------------------------------------\n",
        "# Solicitar al usuario que ingrese su nombre\n",
        "usuario_ingresado = input(\"Por favor, ingrese su nombre: \")\n",
        "\n",
        "# Imprimir en pantalla el nombre ingresado\n",
        "print(\"nombre de  usuario ingresado:\", usuario_ingresado)\n",
        "\n",
        "\n",
        "# Solicitar al clave que cree su nombre\n",
        "clave_ingresado = input(\"Por favor, ingrese su clave: \")\n",
        "\n",
        "# Imprimir en pantalla el nombre ingresado\n",
        "print(\"nombre de  clave ingresado:\", clave_ingresado)\n",
        "\n",
        "\n",
        "\n",
        "# Usuario a buscar\n",
        "buscar_usuario = usuario_ingresado\n",
        "\n",
        "# Verificar si la palabra está en el diccionario\n",
        "if buscar_usuario in data:\n",
        "    print(f'El usuario \"{buscar_usuario}\"se encuentra en BD.')\n",
        "    clave_asociada = data[buscar_usuario]\n",
        "    print(f'La clave  asociada es: {clave_asociada}')\n",
        "    if clave_asociada == clave_ingresado :\n",
        "      print(\"clave correcta\")\n",
        "    else:\n",
        "      print(\"clave incorrecta\")\n",
        "else:\n",
        "    print(f'El Usuario \"{buscar_usuario}\" no está en BD.')\n",
        "\n",
        "\n"
      ]
    }
  ]
}